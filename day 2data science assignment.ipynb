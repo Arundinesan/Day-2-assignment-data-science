{
 "cells": [
  {
   "cell_type": "markdown",
   "metadata": {},
   "source": [
    "# Assignment day 2"
   ]
  },
  {
   "cell_type": "markdown",
   "metadata": {},
   "source": [
    "# question 1"
   ]
  },
  {
   "cell_type": "code",
   "execution_count": 1,
   "metadata": {},
   "outputs": [
    {
     "name": "stdout",
     "output_type": "stream",
     "text": [
      "1\n",
      "2\n",
      "3\n",
      "6\n",
      "4\n",
      "7\n",
      "8\n",
      "9\n",
      "23\n",
      "25\n",
      "[2, 6, 4, 8]\n"
     ]
    }
   ],
   "source": [
    "s = [ ]\n",
    "\n",
    "i=0\n",
    "while i<10:\n",
    "    a=int(input())\n",
    "    if a%2==0:\n",
    "        s.append(a)\n",
    "    i+=1\n",
    "print(s)    \n",
    "    "
   ]
  },
  {
   "cell_type": "markdown",
   "metadata": {},
   "source": [
    "# question 2"
   ]
  },
  {
   "cell_type": "raw",
   "metadata": {},
   "source": [
    "Comprehensions in Python provide us with a short and concise way to construct new sequences (such as lists, set, dictionary etc.) using sequences which have been already defined. Python supports the following 4 types of comprehensions: List Comprehensions Dictionary Comprehensions Set Comprehensions Generator Comprehensions List comprehensions are used for creating new lists from other iterables Ex 1 : Suppose we want to create a new list 'b' where list 'a' is given and elements in 'b' are exactly the squares of elements in 'a'. then instead of using for loop we can use list comprehensions Ex 2 : Suppose We have two list 'x' and 'y' we want to find the common elements. here also we can use list comprehensions instead of loops Ex 3 : Suppose if we want to split a word and create a new list etc\n"
   ]
  },
  {
   "cell_type": "code",
   "execution_count": 2,
   "metadata": {},
   "outputs": [
    {
     "name": "stdout",
     "output_type": "stream",
     "text": [
      "[1, 2, 3, 4, 5]\n",
      "[1, 4, 9, 16, 25]\n"
     ]
    }
   ],
   "source": [
    "# Example 1\n",
    "a = [1, 2, 3, 4, 5]\n",
    "print(a)\n",
    "b = [ x**2 for x in a]\n",
    "print(b)"
   ]
  },
  {
   "cell_type": "code",
   "execution_count": 3,
   "metadata": {},
   "outputs": [
    {
     "name": "stdout",
     "output_type": "stream",
     "text": [
      "[11, 12, 13, 14, 15]\n",
      "[11, 13, 15, 17, 19]\n",
      "[11, 13, 15]\n"
     ]
    }
   ],
   "source": [
    "# Example 2\n",
    "x = [11, 12, 13, 14, 15]\n",
    "print(x)\n",
    "y = [11, 13, 15, 17, 19]\n",
    "print(y)\n",
    "\n",
    "comon = [a for a in x for b in y if a == b]\n",
    "print(comon)"
   ]
  },
  {
   "cell_type": "code",
   "execution_count": 4,
   "metadata": {},
   "outputs": [
    {
     "name": "stdout",
     "output_type": "stream",
     "text": [
      "['H', 'u', 'm', 'a', 'n']\n"
     ]
    }
   ],
   "source": [
    "# Example 3\n",
    "\n",
    "new = [x for x in 'Human']\n",
    "print(new)"
   ]
  },
  {
   "cell_type": "markdown",
   "metadata": {},
   "source": [
    "# Question 3"
   ]
  },
  {
   "cell_type": "code",
   "execution_count": 5,
   "metadata": {},
   "outputs": [
    {
     "name": "stdout",
     "output_type": "stream",
     "text": [
      "3\n",
      "{1: 1, 2: 4, 3: 9}\n"
     ]
    }
   ],
   "source": [
    "n=int(input())\n",
    "a = {}\n",
    "i = 1\n",
    "while i<=n:\n",
    "    a[i]=i*i\n",
    "    i+=1\n",
    "print(a)    \n",
    "\n"
   ]
  },
  {
   "cell_type": "markdown",
   "metadata": {},
   "source": [
    "# question 4"
   ]
  },
  {
   "cell_type": "code",
   "execution_count": 7,
   "metadata": {},
   "outputs": [
    {
     "name": "stdout",
     "output_type": "stream",
     "text": [
      "4\n",
      "UP 5\n",
      "DOWN 3\n",
      "LEFT 3\n",
      "RIGHT 2\n",
      "2\n"
     ]
    }
   ],
   "source": [
    "import math\n",
    "position = {\"x\":0, \"y\":0}\n",
    "\n",
    "n=int(input())\n",
    "\n",
    "for i in range(0,n):\n",
    "    direction, steps = input().split()\n",
    "    if direction == \"UP\":\n",
    "        position[\"y\"] += int(steps)\n",
    "    elif direction == \"DOWN\":\n",
    "        position[\"y\"] -= int(steps)\n",
    "    elif direction == \"LEFT\":\n",
    "        position[\"x\"] -= int(steps)\n",
    "    else:\n",
    "        position[\"x\"] += int(steps)\n",
    "    \n",
    "print(int(round(math.sqrt(position[\"x\"]**2 + position[\"y\"]**2))))"
   ]
  },
  {
   "cell_type": "code",
   "execution_count": null,
   "metadata": {},
   "outputs": [],
   "source": []
  }
 ],
 "metadata": {
  "kernelspec": {
   "display_name": "Python 3",
   "language": "python",
   "name": "python3"
  },
  "language_info": {
   "codemirror_mode": {
    "name": "ipython",
    "version": 3
   },
   "file_extension": ".py",
   "mimetype": "text/x-python",
   "name": "python",
   "nbconvert_exporter": "python",
   "pygments_lexer": "ipython3",
   "version": "3.7.6"
  }
 },
 "nbformat": 4,
 "nbformat_minor": 4
}
